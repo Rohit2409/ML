{
  "nbformat": 4,
  "nbformat_minor": 0,
  "metadata": {
    "colab": {
      "name": "findS.ipynb",
      "provenance": [],
      "toc_visible": true
    },
    "kernelspec": {
      "name": "python3",
      "display_name": "Python 3"
    }
  },
  "cells": [
    {
      "cell_type": "markdown",
      "metadata": {
        "id": "G5l4mKNhf1Id"
      },
      "source": [
        "Name: Rohit Kudache\r\n",
        "USN: 1BM18CS083\r\n",
        "Program 1: Find S"
      ]
    },
    {
      "cell_type": "code",
      "metadata": {
        "colab": {
          "base_uri": "https://localhost:8080/",
          "height": 894
        },
        "id": "1l0tNdqVf-aU",
        "outputId": "6b24cd3b-5ee2-42ab-9cd2-2bb0f31ca468"
      },
      "source": [
        "import pandas as pd\r\n",
        "import numpy as np\r\n",
        " \r\n",
        "data = pd.read_csv(\"/content/drive/MyDrive/Machinelearning/weather.csv\")\r\n",
        "print(data,\"\\n\")\r\n",
        " \r\n",
        "#array of all the attributes\r\n",
        "d = np.array(data)[:,:-1]\r\n",
        "print(\"\\n The attributes are: \",d)\r\n",
        " \r\n",
        "target = np.array(data)[:,-1]\r\n",
        "print(\"\\n The target is: \",target)\r\n",
        "\r\n",
        "global specific_hypothesis \r\n",
        "def findS(c,t):\r\n",
        "    for i, val in enumerate(t):\r\n",
        "        if val == \"Yes\":\r\n",
        "            specific_hypothesis = c[i].copy()\r\n",
        "            break\r\n",
        "             \r\n",
        "    for i, val in enumerate(c):\r\n",
        "        if t[i] == \"Yes\":\r\n",
        "            for x in range(len(specific_hypothesis)):\r\n",
        "                if val[x] != specific_hypothesis[x]:\r\n",
        "                    specific_hypothesis[x] = '?'\r\n",
        "                else:\r\n",
        "                    pass\r\n",
        "                 \r\n",
        "    return specific_hypothesis\r\n",
        " \r\n",
        "print(\"\\n The final hypothesis is:\",findS(d,target))\r\n"
      ],
      "execution_count": 18,
      "outputs": [
        {
          "output_type": "stream",
          "text": [
            "     outlook temperature humidity  windy play\n",
            "0   overcast         hot     high  False  yes\n",
            "1   overcast        cool   normal   True  yes\n",
            "2   overcast        mild     high   True  yes\n",
            "3   overcast         hot   normal  False  yes\n",
            "4      rainy        mild     high  False  yes\n",
            "5      rainy        cool   normal  False  yes\n",
            "6      rainy        cool   normal   True   no\n",
            "7      rainy        mild   normal  False  yes\n",
            "8      rainy        mild     high   True   no\n",
            "9      sunny         hot     high  False   no\n",
            "10     sunny         hot     high   True   no\n",
            "11     sunny        mild     high  False   no\n",
            "12     sunny        cool   normal  False  yes\n",
            "13     sunny        mild   normal   True  yes \n",
            "\n",
            "\n",
            " The attributes are:  [['overcast' 'hot' 'high' False]\n",
            " ['overcast' 'cool' 'normal' True]\n",
            " ['overcast' 'mild' 'high' True]\n",
            " ['overcast' 'hot' 'normal' False]\n",
            " ['rainy' 'mild' 'high' False]\n",
            " ['rainy' 'cool' 'normal' False]\n",
            " ['rainy' 'cool' 'normal' True]\n",
            " ['rainy' 'mild' 'normal' False]\n",
            " ['rainy' 'mild' 'high' True]\n",
            " ['sunny' 'hot' 'high' False]\n",
            " ['sunny' 'hot' 'high' True]\n",
            " ['sunny' 'mild' 'high' False]\n",
            " ['sunny' 'cool' 'normal' False]\n",
            " ['sunny' 'mild' 'normal' True]]\n",
            "\n",
            " The target is:  ['yes' 'yes' 'yes' 'yes' 'yes' 'yes' 'no' 'yes' 'no' 'no' 'no' 'no' 'yes'\n",
            " 'yes']\n"
          ],
          "name": "stdout"
        },
        {
          "output_type": "error",
          "ename": "UnboundLocalError",
          "evalue": "ignored",
          "traceback": [
            "\u001b[0;31m---------------------------------------------------------------------------\u001b[0m",
            "\u001b[0;31mUnboundLocalError\u001b[0m                         Traceback (most recent call last)",
            "\u001b[0;32m<ipython-input-18-c33d70c9b071>\u001b[0m in \u001b[0;36m<module>\u001b[0;34m()\u001b[0m\n\u001b[1;32m     29\u001b[0m     \u001b[0;32mreturn\u001b[0m \u001b[0mspecific_hypothesis\u001b[0m\u001b[0;34m\u001b[0m\u001b[0;34m\u001b[0m\u001b[0m\n\u001b[1;32m     30\u001b[0m \u001b[0;34m\u001b[0m\u001b[0m\n\u001b[0;32m---> 31\u001b[0;31m \u001b[0mprint\u001b[0m\u001b[0;34m(\u001b[0m\u001b[0;34m\"\\n The final hypothesis is:\"\u001b[0m\u001b[0;34m,\u001b[0m\u001b[0mfindS\u001b[0m\u001b[0;34m(\u001b[0m\u001b[0md\u001b[0m\u001b[0;34m,\u001b[0m\u001b[0mtarget\u001b[0m\u001b[0;34m)\u001b[0m\u001b[0;34m)\u001b[0m\u001b[0;34m\u001b[0m\u001b[0;34m\u001b[0m\u001b[0m\n\u001b[0m",
            "\u001b[0;32m<ipython-input-18-c33d70c9b071>\u001b[0m in \u001b[0;36mfindS\u001b[0;34m(c, t)\u001b[0m\n\u001b[1;32m     27\u001b[0m                     \u001b[0;32mpass\u001b[0m\u001b[0;34m\u001b[0m\u001b[0;34m\u001b[0m\u001b[0m\n\u001b[1;32m     28\u001b[0m \u001b[0;34m\u001b[0m\u001b[0m\n\u001b[0;32m---> 29\u001b[0;31m     \u001b[0;32mreturn\u001b[0m \u001b[0mspecific_hypothesis\u001b[0m\u001b[0;34m\u001b[0m\u001b[0;34m\u001b[0m\u001b[0m\n\u001b[0m\u001b[1;32m     30\u001b[0m \u001b[0;34m\u001b[0m\u001b[0m\n\u001b[1;32m     31\u001b[0m \u001b[0mprint\u001b[0m\u001b[0;34m(\u001b[0m\u001b[0;34m\"\\n The final hypothesis is:\"\u001b[0m\u001b[0;34m,\u001b[0m\u001b[0mfindS\u001b[0m\u001b[0;34m(\u001b[0m\u001b[0md\u001b[0m\u001b[0;34m,\u001b[0m\u001b[0mtarget\u001b[0m\u001b[0;34m)\u001b[0m\u001b[0;34m)\u001b[0m\u001b[0;34m\u001b[0m\u001b[0;34m\u001b[0m\u001b[0m\n",
            "\u001b[0;31mUnboundLocalError\u001b[0m: local variable 'specific_hypothesis' referenced before assignment"
          ]
        }
      ]
    }
  ]
}