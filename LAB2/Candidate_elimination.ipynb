{
  "nbformat": 4,
  "nbformat_minor": 0,
  "metadata": {
    "colab": {
      "name": "Candidate_elimination.ipynb",
      "provenance": []
    },
    "kernelspec": {
      "name": "python3",
      "display_name": "Python 3"
    },
    "language_info": {
      "name": "python"
    }
  },
  "cells": [
    {
      "cell_type": "markdown",
      "metadata": {
        "id": "Wf7KBB6ej5iD"
      },
      "source": [
        "# Rohit Kudache (1BM18CS083)\n",
        "\n",
        "Program 2: Candidate elimination alogorithm"
      ]
    },
    {
      "cell_type": "code",
      "metadata": {
        "colab": {
          "base_uri": "https://localhost:8080/"
        },
        "id": "18PH6_xhWnVe",
        "outputId": "a0ba80ca-8b79-4ce8-dd3e-d28688015be3"
      },
      "source": [
        "import numpy as np \n",
        "import pandas as pd \n",
        "data = pd.DataFrame(data=pd.read_csv('/content/drive/MyDrive/Machinelearning/candidate_elimination.csv')) \n",
        "concepts = np.array(data.iloc[:,0:-1])\n",
        "print(concepts) \n",
        "target = np.array(data.iloc[:,-1]) \n",
        "print(target)\n",
        "def learn(concepts, target): \n",
        " specific_h = concepts[0].copy() \n",
        " print(\"initialization of specific_h and general_h\") \n",
        " print(specific_h) \n",
        " general_h = [[\"?\" for i in range(len(specific_h))] for i in \n",
        " range(len(specific_h))] \n",
        " print(general_h) \n",
        " for i, h in enumerate(concepts): \n",
        "  if target[i] == \"yes\": \n",
        "    for x in range(len(specific_h)):\n",
        "      if h[x]!= specific_h[x]: \n",
        "        specific_h[x] ='?' \n",
        "        general_h[x][x] ='?'\n",
        "        print(specific_h)\n",
        "        print(specific_h)\n",
        "  if target[i] == \"no\": \n",
        "    for x in range(len(specific_h)): \n",
        "     if h[x]!= specific_h[x]: \n",
        "       general_h[x][x] = specific_h[x] \n",
        "     else: \n",
        "      general_h[x][x] = '?' \n",
        "      print(\" steps of Candidate Elimination Algorithm\",i+1) \n",
        "      print(specific_h) \n",
        "      print(general_h) \n",
        "    indices = [i for i, val in enumerate(general_h) if val == ['?', '?', '?', '?', '?', '?']] \n",
        " for i in indices: \n",
        "  general_h.remove(['?', '?', '?', '?', '?', '?']) \n",
        " return specific_h, general_h \n",
        "s_final, g_final = learn(concepts, target)\n",
        "print(\"Final Specific_h:\", s_final, sep=\"\\n\")\n",
        "print(\"Final General_h:\", g_final, sep=\"\\n\")"
      ],
      "execution_count": 28,
      "outputs": [
        {
          "output_type": "stream",
          "text": [
            "[['sunny' 'warm' 'normal' 'strong' 'warm' 'same']\n",
            " ['sunny' 'warm' 'high' 'strong' 'warn' 'same']\n",
            " ['rainy' 'cold' 'high' 'strong' 'warm' 'change']\n",
            " ['sunny' 'warm' 'high' 'strong' 'cool' 'change']]\n",
            "['yes' 'yes' 'no' 'yes']\n",
            "initialization of specific_h and general_h\n",
            "['sunny' 'warm' 'normal' 'strong' 'warm' 'same']\n",
            "[['?', '?', '?', '?', '?', '?'], ['?', '?', '?', '?', '?', '?'], ['?', '?', '?', '?', '?', '?'], ['?', '?', '?', '?', '?', '?'], ['?', '?', '?', '?', '?', '?'], ['?', '?', '?', '?', '?', '?']]\n",
            "['sunny' 'warm' '?' 'strong' 'warm' 'same']\n",
            "['sunny' 'warm' '?' 'strong' 'warm' 'same']\n",
            "['sunny' 'warm' '?' 'strong' '?' 'same']\n",
            "['sunny' 'warm' '?' 'strong' '?' 'same']\n",
            " steps of Candidate Elimination Algorithm 3\n",
            "['sunny' 'warm' '?' 'strong' '?' 'same']\n",
            "[['sunny', '?', '?', '?', '?', '?'], ['?', 'warm', '?', '?', '?', '?'], ['?', '?', '?', '?', '?', '?'], ['?', '?', '?', '?', '?', '?'], ['?', '?', '?', '?', '?', '?'], ['?', '?', '?', '?', '?', '?']]\n",
            "['sunny' 'warm' '?' 'strong' '?' 'same']\n",
            "['sunny' 'warm' '?' 'strong' '?' 'same']\n",
            "['sunny' 'warm' '?' 'strong' '?' 'same']\n",
            "['sunny' 'warm' '?' 'strong' '?' 'same']\n",
            "['sunny' 'warm' '?' 'strong' '?' '?']\n",
            "['sunny' 'warm' '?' 'strong' '?' '?']\n",
            "Final Specific_h:\n",
            "['sunny' 'warm' '?' 'strong' '?' '?']\n",
            "Final General_h:\n",
            "[['sunny', '?', '?', '?', '?', '?'], ['?', 'warm', '?', '?', '?', '?'], ['?', '?', '?', '?', '?', '?']]\n"
          ],
          "name": "stdout"
        }
      ]
    }
  ]
}